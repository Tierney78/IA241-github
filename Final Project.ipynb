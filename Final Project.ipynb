{
 "cells": [
  {
   "cell_type": "markdown",
   "id": "72a2454c",
   "metadata": {},
   "source": [
    "# COVID-19 Data In Germany"
   ]
  },
  {
   "attachments": {},
   "cell_type": "markdown",
   "id": "5e229d4b",
   "metadata": {},
   "source": []
  },
  {
   "cell_type": "markdown",
   "id": "4e9f5ad0",
   "metadata": {},
   "source": [
    "# Introduction and Covid-19 \n",
    "COVID-19 was identified in Wuhan, China in December 2019. COVID-19 is caused by the virus severe acute respiratory syndrome coronavirus 2 (SARS-CoV-2), a new virus in humans causing respiratory illness which can be spread from person-to-person. Since early 2020 The virus brought a complete shutdown of modern life. Travel, In person school, and social gathering were all banned. The virus resulted in millions of deaths worldwide, economic crisis, and civil unrest.\n",
    "\n",
    "Source: [Centers for Disease Control and Prevention](https://www.cdc.gov/coronavirus/2019-ncov/hcp/non-us-settings/overview/index.html)(CDC) "
   ]
  },
  {
   "cell_type": "markdown",
   "id": "0cc00508",
   "metadata": {},
   "source": [
    "# Data source \n",
    "The data is downloaded from [European Centre for Disease Prevention and Control](https://www.ecdc.europa.eu/en/publications-data/download-todays-data-geographic-distribution-covid-19-cases-worldwide). "
   ]
  },
  {
   "cell_type": "code",
   "execution_count": 1,
   "id": "476aae75",
   "metadata": {},
   "outputs": [],
   "source": [
    "%matplotlib inline\n",
    "import pandas "
   ]
  },
  {
   "cell_type": "markdown",
   "id": "77bc709e",
   "metadata": {},
   "source": [
    "# Quick look at data\n",
    "This is a small look into the data showing several variables of the effects of covid in different countries."
   ]
  },
  {
   "cell_type": "code",
   "execution_count": 2,
   "id": "8f0b7de9",
   "metadata": {
    "scrolled": true
   },
   "outputs": [
    {
     "data": {
      "text/html": [
       "<div>\n",
       "<style scoped>\n",
       "    .dataframe tbody tr th:only-of-type {\n",
       "        vertical-align: middle;\n",
       "    }\n",
       "\n",
       "    .dataframe tbody tr th {\n",
       "        vertical-align: top;\n",
       "    }\n",
       "\n",
       "    .dataframe thead th {\n",
       "        text-align: right;\n",
       "    }\n",
       "</style>\n",
       "<table border=\"1\" class=\"dataframe\">\n",
       "  <thead>\n",
       "    <tr style=\"text-align: right;\">\n",
       "      <th></th>\n",
       "      <th>dateRep</th>\n",
       "      <th>day</th>\n",
       "      <th>month</th>\n",
       "      <th>year</th>\n",
       "      <th>cases</th>\n",
       "      <th>deaths</th>\n",
       "      <th>countriesAndTerritories</th>\n",
       "      <th>geoId</th>\n",
       "      <th>countryterritoryCode</th>\n",
       "      <th>popData2019</th>\n",
       "      <th>continentExp</th>\n",
       "      <th>Cumulative_number_for_14_days_of_COVID-19_cases_per_100000</th>\n",
       "    </tr>\n",
       "  </thead>\n",
       "  <tbody>\n",
       "    <tr>\n",
       "      <th>0</th>\n",
       "      <td>14/12/2020</td>\n",
       "      <td>14</td>\n",
       "      <td>12</td>\n",
       "      <td>2020</td>\n",
       "      <td>746</td>\n",
       "      <td>6</td>\n",
       "      <td>Afghanistan</td>\n",
       "      <td>AF</td>\n",
       "      <td>AFG</td>\n",
       "      <td>38041757.0</td>\n",
       "      <td>Asia</td>\n",
       "      <td>9.013779</td>\n",
       "    </tr>\n",
       "    <tr>\n",
       "      <th>1</th>\n",
       "      <td>13/12/2020</td>\n",
       "      <td>13</td>\n",
       "      <td>12</td>\n",
       "      <td>2020</td>\n",
       "      <td>298</td>\n",
       "      <td>9</td>\n",
       "      <td>Afghanistan</td>\n",
       "      <td>AF</td>\n",
       "      <td>AFG</td>\n",
       "      <td>38041757.0</td>\n",
       "      <td>Asia</td>\n",
       "      <td>7.052776</td>\n",
       "    </tr>\n",
       "    <tr>\n",
       "      <th>2</th>\n",
       "      <td>2020-12-12 00:00:00</td>\n",
       "      <td>12</td>\n",
       "      <td>12</td>\n",
       "      <td>2020</td>\n",
       "      <td>113</td>\n",
       "      <td>11</td>\n",
       "      <td>Afghanistan</td>\n",
       "      <td>AF</td>\n",
       "      <td>AFG</td>\n",
       "      <td>38041757.0</td>\n",
       "      <td>Asia</td>\n",
       "      <td>6.868768</td>\n",
       "    </tr>\n",
       "    <tr>\n",
       "      <th>3</th>\n",
       "      <td>2020-11-12 00:00:00</td>\n",
       "      <td>11</td>\n",
       "      <td>12</td>\n",
       "      <td>2020</td>\n",
       "      <td>63</td>\n",
       "      <td>10</td>\n",
       "      <td>Afghanistan</td>\n",
       "      <td>AF</td>\n",
       "      <td>AFG</td>\n",
       "      <td>38041757.0</td>\n",
       "      <td>Asia</td>\n",
       "      <td>7.134266</td>\n",
       "    </tr>\n",
       "    <tr>\n",
       "      <th>4</th>\n",
       "      <td>2020-10-12 00:00:00</td>\n",
       "      <td>10</td>\n",
       "      <td>12</td>\n",
       "      <td>2020</td>\n",
       "      <td>202</td>\n",
       "      <td>16</td>\n",
       "      <td>Afghanistan</td>\n",
       "      <td>AF</td>\n",
       "      <td>AFG</td>\n",
       "      <td>38041757.0</td>\n",
       "      <td>Asia</td>\n",
       "      <td>6.968658</td>\n",
       "    </tr>\n",
       "    <tr>\n",
       "      <th>5</th>\n",
       "      <td>2020-09-12 00:00:00</td>\n",
       "      <td>9</td>\n",
       "      <td>12</td>\n",
       "      <td>2020</td>\n",
       "      <td>135</td>\n",
       "      <td>13</td>\n",
       "      <td>Afghanistan</td>\n",
       "      <td>AF</td>\n",
       "      <td>AFG</td>\n",
       "      <td>38041757.0</td>\n",
       "      <td>Asia</td>\n",
       "      <td>6.963401</td>\n",
       "    </tr>\n",
       "    <tr>\n",
       "      <th>6</th>\n",
       "      <td>2020-08-12 00:00:00</td>\n",
       "      <td>8</td>\n",
       "      <td>12</td>\n",
       "      <td>2020</td>\n",
       "      <td>200</td>\n",
       "      <td>6</td>\n",
       "      <td>Afghanistan</td>\n",
       "      <td>AF</td>\n",
       "      <td>AFG</td>\n",
       "      <td>38041757.0</td>\n",
       "      <td>Asia</td>\n",
       "      <td>7.094835</td>\n",
       "    </tr>\n",
       "    <tr>\n",
       "      <th>7</th>\n",
       "      <td>2020-07-12 00:00:00</td>\n",
       "      <td>7</td>\n",
       "      <td>12</td>\n",
       "      <td>2020</td>\n",
       "      <td>210</td>\n",
       "      <td>26</td>\n",
       "      <td>Afghanistan</td>\n",
       "      <td>AF</td>\n",
       "      <td>AFG</td>\n",
       "      <td>38041757.0</td>\n",
       "      <td>Asia</td>\n",
       "      <td>7.215755</td>\n",
       "    </tr>\n",
       "    <tr>\n",
       "      <th>8</th>\n",
       "      <td>2020-06-12 00:00:00</td>\n",
       "      <td>6</td>\n",
       "      <td>12</td>\n",
       "      <td>2020</td>\n",
       "      <td>234</td>\n",
       "      <td>10</td>\n",
       "      <td>Afghanistan</td>\n",
       "      <td>AF</td>\n",
       "      <td>AFG</td>\n",
       "      <td>38041757.0</td>\n",
       "      <td>Asia</td>\n",
       "      <td>7.326160</td>\n",
       "    </tr>\n",
       "    <tr>\n",
       "      <th>9</th>\n",
       "      <td>2020-05-12 00:00:00</td>\n",
       "      <td>5</td>\n",
       "      <td>12</td>\n",
       "      <td>2020</td>\n",
       "      <td>235</td>\n",
       "      <td>18</td>\n",
       "      <td>Afghanistan</td>\n",
       "      <td>AF</td>\n",
       "      <td>AFG</td>\n",
       "      <td>38041757.0</td>\n",
       "      <td>Asia</td>\n",
       "      <td>7.115865</td>\n",
       "    </tr>\n",
       "  </tbody>\n",
       "</table>\n",
       "</div>"
      ],
      "text/plain": [
       "               dateRep  day  month  year  cases  deaths  \\\n",
       "0           14/12/2020   14     12  2020    746       6   \n",
       "1           13/12/2020   13     12  2020    298       9   \n",
       "2  2020-12-12 00:00:00   12     12  2020    113      11   \n",
       "3  2020-11-12 00:00:00   11     12  2020     63      10   \n",
       "4  2020-10-12 00:00:00   10     12  2020    202      16   \n",
       "5  2020-09-12 00:00:00    9     12  2020    135      13   \n",
       "6  2020-08-12 00:00:00    8     12  2020    200       6   \n",
       "7  2020-07-12 00:00:00    7     12  2020    210      26   \n",
       "8  2020-06-12 00:00:00    6     12  2020    234      10   \n",
       "9  2020-05-12 00:00:00    5     12  2020    235      18   \n",
       "\n",
       "  countriesAndTerritories geoId countryterritoryCode  popData2019  \\\n",
       "0             Afghanistan    AF                  AFG   38041757.0   \n",
       "1             Afghanistan    AF                  AFG   38041757.0   \n",
       "2             Afghanistan    AF                  AFG   38041757.0   \n",
       "3             Afghanistan    AF                  AFG   38041757.0   \n",
       "4             Afghanistan    AF                  AFG   38041757.0   \n",
       "5             Afghanistan    AF                  AFG   38041757.0   \n",
       "6             Afghanistan    AF                  AFG   38041757.0   \n",
       "7             Afghanistan    AF                  AFG   38041757.0   \n",
       "8             Afghanistan    AF                  AFG   38041757.0   \n",
       "9             Afghanistan    AF                  AFG   38041757.0   \n",
       "\n",
       "  continentExp  Cumulative_number_for_14_days_of_COVID-19_cases_per_100000  \n",
       "0         Asia                                           9.013779           \n",
       "1         Asia                                           7.052776           \n",
       "2         Asia                                           6.868768           \n",
       "3         Asia                                           7.134266           \n",
       "4         Asia                                           6.968658           \n",
       "5         Asia                                           6.963401           \n",
       "6         Asia                                           7.094835           \n",
       "7         Asia                                           7.215755           \n",
       "8         Asia                                           7.326160           \n",
       "9         Asia                                           7.115865           "
      ]
     },
     "execution_count": 2,
     "metadata": {},
     "output_type": "execute_result"
    }
   ],
   "source": [
    "df = pandas.read_excel('s3://tierney-ia241-2022/covid_data.xls')\n",
    "df[:10] #The top ten rows"
   ]
  },
  {
   "cell_type": "markdown",
   "id": "da4aa5c1",
   "metadata": {},
   "source": [
    "# Select the German Data\n",
    "The data collected on Germany. This was displayed by using the command to pull the data from Germany by specifying it from the \"countriesAndTerritories\" column of data. Ive shown the first 15 days of recorded Covid data by using a command to display them."
   ]
  },
  {
   "cell_type": "code",
   "execution_count": 3,
   "id": "b63a3e1d",
   "metadata": {
    "scrolled": true
   },
   "outputs": [
    {
     "data": {
      "text/html": [
       "<div>\n",
       "<style scoped>\n",
       "    .dataframe tbody tr th:only-of-type {\n",
       "        vertical-align: middle;\n",
       "    }\n",
       "\n",
       "    .dataframe tbody tr th {\n",
       "        vertical-align: top;\n",
       "    }\n",
       "\n",
       "    .dataframe thead th {\n",
       "        text-align: right;\n",
       "    }\n",
       "</style>\n",
       "<table border=\"1\" class=\"dataframe\">\n",
       "  <thead>\n",
       "    <tr style=\"text-align: right;\">\n",
       "      <th></th>\n",
       "      <th>dateRep</th>\n",
       "      <th>day</th>\n",
       "      <th>month</th>\n",
       "      <th>year</th>\n",
       "      <th>cases</th>\n",
       "      <th>deaths</th>\n",
       "      <th>countriesAndTerritories</th>\n",
       "      <th>geoId</th>\n",
       "      <th>countryterritoryCode</th>\n",
       "      <th>popData2019</th>\n",
       "      <th>continentExp</th>\n",
       "      <th>Cumulative_number_for_14_days_of_COVID-19_cases_per_100000</th>\n",
       "    </tr>\n",
       "  </thead>\n",
       "  <tbody>\n",
       "    <tr>\n",
       "      <th>21880</th>\n",
       "      <td>14/12/2020</td>\n",
       "      <td>14</td>\n",
       "      <td>12</td>\n",
       "      <td>2020</td>\n",
       "      <td>16362</td>\n",
       "      <td>188</td>\n",
       "      <td>Germany</td>\n",
       "      <td>DE</td>\n",
       "      <td>DEU</td>\n",
       "      <td>83019213.0</td>\n",
       "      <td>Europe</td>\n",
       "      <td>341.136696</td>\n",
       "    </tr>\n",
       "    <tr>\n",
       "      <th>21881</th>\n",
       "      <td>13/12/2020</td>\n",
       "      <td>13</td>\n",
       "      <td>12</td>\n",
       "      <td>2020</td>\n",
       "      <td>20200</td>\n",
       "      <td>321</td>\n",
       "      <td>Germany</td>\n",
       "      <td>DE</td>\n",
       "      <td>DEU</td>\n",
       "      <td>83019213.0</td>\n",
       "      <td>Europe</td>\n",
       "      <td>334.881517</td>\n",
       "    </tr>\n",
       "    <tr>\n",
       "      <th>21882</th>\n",
       "      <td>2020-12-12 00:00:00</td>\n",
       "      <td>12</td>\n",
       "      <td>12</td>\n",
       "      <td>2020</td>\n",
       "      <td>28438</td>\n",
       "      <td>496</td>\n",
       "      <td>Germany</td>\n",
       "      <td>DE</td>\n",
       "      <td>DEU</td>\n",
       "      <td>83019213.0</td>\n",
       "      <td>Europe</td>\n",
       "      <td>328.149341</td>\n",
       "    </tr>\n",
       "    <tr>\n",
       "      <th>21883</th>\n",
       "      <td>2020-11-12 00:00:00</td>\n",
       "      <td>11</td>\n",
       "      <td>12</td>\n",
       "      <td>2020</td>\n",
       "      <td>29875</td>\n",
       "      <td>598</td>\n",
       "      <td>Germany</td>\n",
       "      <td>DE</td>\n",
       "      <td>DEU</td>\n",
       "      <td>83019213.0</td>\n",
       "      <td>Europe</td>\n",
       "      <td>320.027124</td>\n",
       "    </tr>\n",
       "    <tr>\n",
       "      <th>21884</th>\n",
       "      <td>2020-10-12 00:00:00</td>\n",
       "      <td>10</td>\n",
       "      <td>12</td>\n",
       "      <td>2020</td>\n",
       "      <td>23679</td>\n",
       "      <td>440</td>\n",
       "      <td>Germany</td>\n",
       "      <td>DE</td>\n",
       "      <td>DEU</td>\n",
       "      <td>83019213.0</td>\n",
       "      <td>Europe</td>\n",
       "      <td>311.512228</td>\n",
       "    </tr>\n",
       "    <tr>\n",
       "      <th>21885</th>\n",
       "      <td>2020-09-12 00:00:00</td>\n",
       "      <td>9</td>\n",
       "      <td>12</td>\n",
       "      <td>2020</td>\n",
       "      <td>20815</td>\n",
       "      <td>590</td>\n",
       "      <td>Germany</td>\n",
       "      <td>DE</td>\n",
       "      <td>DEU</td>\n",
       "      <td>83019213.0</td>\n",
       "      <td>Europe</td>\n",
       "      <td>309.812621</td>\n",
       "    </tr>\n",
       "    <tr>\n",
       "      <th>21886</th>\n",
       "      <td>2020-08-12 00:00:00</td>\n",
       "      <td>8</td>\n",
       "      <td>12</td>\n",
       "      <td>2020</td>\n",
       "      <td>14055</td>\n",
       "      <td>423</td>\n",
       "      <td>Germany</td>\n",
       "      <td>DE</td>\n",
       "      <td>DEU</td>\n",
       "      <td>83019213.0</td>\n",
       "      <td>Europe</td>\n",
       "      <td>307.184314</td>\n",
       "    </tr>\n",
       "    <tr>\n",
       "      <th>21887</th>\n",
       "      <td>2020-07-12 00:00:00</td>\n",
       "      <td>7</td>\n",
       "      <td>12</td>\n",
       "      <td>2020</td>\n",
       "      <td>12332</td>\n",
       "      <td>147</td>\n",
       "      <td>Germany</td>\n",
       "      <td>DE</td>\n",
       "      <td>DEU</td>\n",
       "      <td>83019213.0</td>\n",
       "      <td>Europe</td>\n",
       "      <td>306.580839</td>\n",
       "    </tr>\n",
       "    <tr>\n",
       "      <th>21888</th>\n",
       "      <td>2020-06-12 00:00:00</td>\n",
       "      <td>6</td>\n",
       "      <td>12</td>\n",
       "      <td>2020</td>\n",
       "      <td>17767</td>\n",
       "      <td>255</td>\n",
       "      <td>Germany</td>\n",
       "      <td>DE</td>\n",
       "      <td>DEU</td>\n",
       "      <td>83019213.0</td>\n",
       "      <td>Europe</td>\n",
       "      <td>304.812574</td>\n",
       "    </tr>\n",
       "    <tr>\n",
       "      <th>21889</th>\n",
       "      <td>2020-05-12 00:00:00</td>\n",
       "      <td>5</td>\n",
       "      <td>12</td>\n",
       "      <td>2020</td>\n",
       "      <td>23318</td>\n",
       "      <td>483</td>\n",
       "      <td>Germany</td>\n",
       "      <td>DE</td>\n",
       "      <td>DEU</td>\n",
       "      <td>83019213.0</td>\n",
       "      <td>Europe</td>\n",
       "      <td>302.372175</td>\n",
       "    </tr>\n",
       "  </tbody>\n",
       "</table>\n",
       "</div>"
      ],
      "text/plain": [
       "                   dateRep  day  month  year  cases  deaths  \\\n",
       "21880           14/12/2020   14     12  2020  16362     188   \n",
       "21881           13/12/2020   13     12  2020  20200     321   \n",
       "21882  2020-12-12 00:00:00   12     12  2020  28438     496   \n",
       "21883  2020-11-12 00:00:00   11     12  2020  29875     598   \n",
       "21884  2020-10-12 00:00:00   10     12  2020  23679     440   \n",
       "21885  2020-09-12 00:00:00    9     12  2020  20815     590   \n",
       "21886  2020-08-12 00:00:00    8     12  2020  14055     423   \n",
       "21887  2020-07-12 00:00:00    7     12  2020  12332     147   \n",
       "21888  2020-06-12 00:00:00    6     12  2020  17767     255   \n",
       "21889  2020-05-12 00:00:00    5     12  2020  23318     483   \n",
       "\n",
       "      countriesAndTerritories geoId countryterritoryCode  popData2019  \\\n",
       "21880                 Germany    DE                  DEU   83019213.0   \n",
       "21881                 Germany    DE                  DEU   83019213.0   \n",
       "21882                 Germany    DE                  DEU   83019213.0   \n",
       "21883                 Germany    DE                  DEU   83019213.0   \n",
       "21884                 Germany    DE                  DEU   83019213.0   \n",
       "21885                 Germany    DE                  DEU   83019213.0   \n",
       "21886                 Germany    DE                  DEU   83019213.0   \n",
       "21887                 Germany    DE                  DEU   83019213.0   \n",
       "21888                 Germany    DE                  DEU   83019213.0   \n",
       "21889                 Germany    DE                  DEU   83019213.0   \n",
       "\n",
       "      continentExp  Cumulative_number_for_14_days_of_COVID-19_cases_per_100000  \n",
       "21880       Europe                                         341.136696           \n",
       "21881       Europe                                         334.881517           \n",
       "21882       Europe                                         328.149341           \n",
       "21883       Europe                                         320.027124           \n",
       "21884       Europe                                         311.512228           \n",
       "21885       Europe                                         309.812621           \n",
       "21886       Europe                                         307.184314           \n",
       "21887       Europe                                         306.580839           \n",
       "21888       Europe                                         304.812574           \n",
       "21889       Europe                                         302.372175           "
      ]
     },
     "execution_count": 3,
     "metadata": {},
     "output_type": "execute_result"
    }
   ],
   "source": [
    "DE_data = df.loc[df['countriesAndTerritories'] == 'Germany']\n",
    "DE_data[:10] #the top 10 rows"
   ]
  },
  {
   "cell_type": "markdown",
   "id": "d6d4c7cd",
   "metadata": {},
   "source": [
    "# What is the common trend of covid cases in Germany\n",
    "This code depicts the trend of COVID-19 cases in Germany. This was calculated by grouping by the sum of the 'month' of the 'cases' and assigning it to the variable 'sum_cases_by_month. Then creating a line chart depicting the results by inserting the command sum_cases_by_month.plot(x= 'month')."
   ]
  },
  {
   "cell_type": "code",
   "execution_count": 4,
   "id": "83f15990",
   "metadata": {
    "scrolled": true
   },
   "outputs": [
    {
     "data": {
      "text/plain": [
       "<AxesSubplot:xlabel='month'>"
      ]
     },
     "execution_count": 4,
     "metadata": {},
     "output_type": "execute_result"
    },
    {
     "data": {
      "image/png": "[encoded data removed]",
      "text/plain": [
       "<Figure size 432x288 with 1 Axes>"
      ]
     },
     "metadata": {
      "needs_background": "light"
     },
     "output_type": "display_data"
    }
   ],
   "source": [
    "sum_cases_by_month=DE_data.groupby('month').sum()['cases']\n",
    "sum_cases_by_month.plot(x= 'month')"
   ]
  },
  {
   "cell_type": "markdown",
   "id": "1b20c3b5",
   "metadata": {},
   "source": [
    "Indicating the trend of COVID-19 cases in Germany this line graph shows an overall increase in cases with one noticable spike between month 9 and 11. The highest amount of cases in Germany was in month 11 surpassing 500000 cases. "
   ]
  },
  {
   "cell_type": "markdown",
   "id": "7c9fbb5f",
   "metadata": {},
   "source": [
    "# What month did Germany have the most cases\n",
    "This code depicts the amount of COVID-19 cases per month. This was calculated by grouping by the sum of the 'month' of the 'cases' and assigning it to the variable 'sum_cases_by_month. Then creating a bar plot by using the command sum_cases_by_month.plot.bar()"
   ]
  },
  {
   "cell_type": "code",
   "execution_count": 5,
   "id": "3fe979ff",
   "metadata": {
    "scrolled": true
   },
   "outputs": [
    {
     "data": {
      "text/plain": [
       "<AxesSubplot:xlabel='month'>"
      ]
     },
     "execution_count": 5,
     "metadata": {},
     "output_type": "execute_result"
    },
    {
     "data": {
      "image/png": "[encoded data removed]",
      "text/plain": [
       "<Figure size 432x288 with 1 Axes>"
      ]
     },
     "metadata": {
      "needs_background": "light"
     },
     "output_type": "display_data"
    }
   ],
   "source": [
    "sum_cases_by_month= DE_data.groupby('month').sum()['cases']\n",
    "sum_cases_by_month.plot.bar()  "
   ]
  },
  {
   "cell_type": "markdown",
   "id": "ebfae2b7",
   "metadata": {},
   "source": [
    "The Bar plot shows a gradual increase and decrease through months 3 to 9. During month 10 the amount of cases per month saw a spike leading to the highest amount of cases per month in month 11. In month 11 there were over 500000 cases in Germany, a spike of 200000 cases above any other month"
   ]
  },
  {
   "cell_type": "markdown",
   "id": "0df46baf",
   "metadata": {},
   "source": [
    "# How the Number of Cases is Related to the Number of Deaths\n",
    "This code depicts the correlation between COVID-19 deaths and COVID-19 cases. This was calculated by comparing the data variables of 'deaths' and 'month'. I then created a scatter plot by using the command DE_data.plot.scatter(x='cases',y='deaths', c='month')"
   ]
  },
  {
   "cell_type": "code",
   "execution_count": 6,
   "id": "557d2f74",
   "metadata": {
    "scrolled": true
   },
   "outputs": [
    {
     "data": {
      "text/plain": [
       "<AxesSubplot:xlabel='cases', ylabel='deaths'>"
      ]
     },
     "execution_count": 6,
     "metadata": {},
     "output_type": "execute_result"
    },
    {
     "data": {
      "image/png": "[encoded data removed]",
      "text/plain": [
       "<Figure size 432x288 with 2 Axes>"
      ]
     },
     "metadata": {
      "needs_background": "light"
     },
     "output_type": "display_data"
    }
   ],
   "source": [
    "DE_data.plot.scatter(x='cases',y='deaths', c='month')"
   ]
  },
  {
   "cell_type": "markdown",
   "id": "6cbcc11e",
   "metadata": {},
   "source": [
    "The scatter plot diagram shows the high number of deaths similar to the high number of cases in month 10,11,and 12. The diagram highlights how the majority of deaths took place during the months with the most coivd cases. The more cases per month highlighted that a direct result was more deaths per month proving cases and deaths are correlated. "
   ]
  },
  {
   "cell_type": "markdown",
   "id": "83c4df2e",
   "metadata": {},
   "source": [
    "# Author \n",
    "Kevin Tierney \n",
    "@Tiernekp@dukes.jmu.edu"
   ]
  },
  {
   "cell_type": "markdown",
   "id": "c6f8427f",
   "metadata": {},
   "source": [
    "# Conclusion, Limitations, and Further Research\n",
    "In Conclusion the data provided by [European Centre for Disease Prevention and Control](https://www.ecdc.europa.eu/en/publications-data/download-todays-data-geographic-distribution-covid-19-cases-worldwide) gave reliable and comprehensive data about countries all over the world and the effects of the COVID-19 pandemic on the population. Specifically focusing on Germany this analysis covers what  the common trend of covid cases in Germany is, what month  Germany had the most covid cases, and the relationships between covid cases and deaths in Germany. Limitations of the data provided were that the data focused only on Germany as a whole. The data did not provide numbers on specific states, regions, and cities in Germany. With data focusing on regions in Germany I could have accurate grapghs and plots displaying where the most COVID-19 cases were (In cities, certain regions). Suggestions for further research would be to include more detailed data of COVID-19 in Germany such as age groups, locations, "
   ]
  },
  {
   "cell_type": "code",
   "execution_count": null,
   "id": "31904ec9",
   "metadata": {},
   "outputs": [],
   "source": []
  }
 ],
 "metadata": {
  "kernelspec": {
   "display_name": "conda_python3",
   "language": "python",
   "name": "conda_python3"
  },
  "language_info": {
   "codemirror_mode": {
    "name": "ipython",
    "version": 3
   },
   "file_extension": ".py",
   "mimetype": "text/x-python",
   "name": "python",
   "nbconvert_exporter": "python",
   "pygments_lexer": "ipython3",
   "version": "3.6.13"
  }
 },
 "nbformat": 4,
 "nbformat_minor": 5
}
